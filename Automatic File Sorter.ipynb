{
 "cells": [
  {
   "cell_type": "code",
   "execution_count": 1,
   "id": "6e75750d",
   "metadata": {},
   "outputs": [],
   "source": [
    "import os, shutil"
   ]
  },
  {
   "cell_type": "code",
   "execution_count": 2,
   "id": "93ed2485",
   "metadata": {},
   "outputs": [],
   "source": [
    "path = r\"D:/Desktop/PRASHANTH/BIO/\""
   ]
  },
  {
   "cell_type": "code",
   "execution_count": 3,
   "id": "e0b7fc73",
   "metadata": {},
   "outputs": [],
   "source": [
    "file_name = os.listdir(path)"
   ]
  },
  {
   "cell_type": "code",
   "execution_count": 4,
   "id": "12639c09",
   "metadata": {},
   "outputs": [],
   "source": [
    "folder_names = ['jpg','docx files', 'pdf files']\n",
    "\n",
    "for loop in range(0,3):\n",
    "    if not os.path.exists(path + folder_names[loop]):\n",
    "        print(path + folder_names[loop])\n",
    "        os.makedirs(path + folder_names[loop])\n",
    "\n",
    "for file in file_name:\n",
    "    if \".jpg\" in file and not os.path.exists(path + \"jpg files/\" + file):\n",
    "        shutil.move(path + file, path + \"jpg files/\" + file)\n",
    "    elif \".docx\" in file and not os.path.exists(path + \"docx files/\" + file):\n",
    "        shutil.move(path + file, path + \"docx files/\" + file)\n",
    "    elif \".pdf\" in file and not os.path.exists(path + \"pdf files/\" + file):\n",
    "        shutil.move(path + file, path + \"pdf files/\" + file)\n",
    "    elif \".JPG\" in file and not os.path.exists(path + \"jpg files/\" + file):\n",
    "        shutil.move(path + file, path + \"jpg files/\" + file)"
   ]
  },
  {
   "cell_type": "code",
   "execution_count": null,
   "id": "9e0a6958",
   "metadata": {},
   "outputs": [],
   "source": []
  },
  {
   "cell_type": "code",
   "execution_count": null,
   "id": "ad214ceb",
   "metadata": {},
   "outputs": [],
   "source": []
  }
 ],
 "metadata": {
  "kernelspec": {
   "display_name": "Python 3 (ipykernel)",
   "language": "python",
   "name": "python3"
  },
  "language_info": {
   "codemirror_mode": {
    "name": "ipython",
    "version": 3
   },
   "file_extension": ".py",
   "mimetype": "text/x-python",
   "name": "python",
   "nbconvert_exporter": "python",
   "pygments_lexer": "ipython3",
   "version": "3.9.12"
  }
 },
 "nbformat": 4,
 "nbformat_minor": 5
}
